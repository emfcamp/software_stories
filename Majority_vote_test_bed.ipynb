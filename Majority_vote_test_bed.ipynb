{
 "cells": [
  {
   "cell_type": "markdown",
   "metadata": {},
   "source": [
    "## Aim ##\n",
    "We want to be sure that using the [majority vote](https://en.wikipedia.org/wiki/Majority_judgment) method gives reasonable granularity of scores.\n",
    "\n",
    "## Rating ##\n",
    "Reviewers choose a rating for each submission from:\n",
    "\n",
    "* 0 (reject)\n",
    "* 1 (accept)\n",
    "* 2 (promote)\n",
    "\n",
    "Assuming at least 10 reviewers this gives 220 possible scores (arrangements of ratings). e.g. if there were 3 reviewers '0-0-0', '1-1-1', '2-2-2' and '1-2-3' are just 4 of the possible 10 scores.\n",
    "\n",
    "## Majority Vote ##\n",
    "Majority vote is a system that aims to produce a ['fair'](https://en.wikipedia.org/wiki/Majority_judgment#Satisfied_and_failed_criteria) ranking of candidates, in our case 'canidates' refer to submissions and 'voters' refers to a reviewer.\n",
    "\n",
    "The algorithm used is:\n",
    "\n",
    "1. Sort all submissions' ratings (to produce a score)\n",
    "2. Find the median rating of the score\n",
    "3. Group submissions by their median rating\n",
    "4. For each member of a group remove one instance of that group's median rating from the member's score\n",
    "5. Repeat steps 2-4 until the submissions are sorted or each group is empty\n",
    "\n",
    "As implemented this results in a tree of ordered dictionaries. The keys for each dictionary are the median rating for the child elements. This means that at each nesting level the keys are: 0, 1, or 2. The nesting continues to a fixed depth based on an argument supplied to the ranking function but it is also bound by the combinatorics of the reviewers & scoring (i.e. the number of ways that a submission can be scored by the reviewers). E.g. with 10 reviewers rating either 0, 1, or 2 there are 220 possible scores.\n",
    "\n",
    "## Ranking ##\n",
    "Whilst the leaves of the scoring tree are nominally sorted its for ease of manipulation the tree is flattened. Each leaf is assigned a rank by calculating the value of the path to that leaf. E.g. leaf 0-1-2 is 5 (0x9 + 1x3 + 2).\n",
    "\n",
    "**NB**: because of the nature of the majority vote system the leaf values are not evenly distributed.\n"
   ]
  },
  {
   "cell_type": "code",
   "execution_count": 1,
   "metadata": {
    "collapsed": false
   },
   "outputs": [],
   "source": [
    "from majority_judgement import (rank_submissions, linearise_submissions, generate_scores,\n",
    "                            get_floor_median, remove_scoring_element)\n",
    "from copy import deepcopy"
   ]
  },
  {
   "cell_type": "code",
   "execution_count": null,
   "metadata": {
    "collapsed": true
   },
   "outputs": [],
   "source": [
    "%matplotlib inline"
   ]
  },
  {
   "cell_type": "code",
   "execution_count": null,
   "metadata": {
    "collapsed": true
   },
   "outputs": [],
   "source": [
    "import matplotlib.pyplot as plt"
   ]
  },
  {
   "cell_type": "code",
   "execution_count": 2,
   "metadata": {
    "collapsed": false
   },
   "outputs": [],
   "source": [
    "def calc(score_set):\n",
    "    _score_set = sorted(deepcopy(score_set))\n",
    "    power = 3 ** (len(score_set) - 1)\n",
    "    res = 0\n",
    "    while _score_set:\n",
    "        score = get_floor_median(_score_set)\n",
    "        res += (score * power)\n",
    "        power = int(power / 3)\n",
    "        remove_scoring_element(score, _score_set)\n",
    "    return res\n",
    "\n",
    "def alt_rank(scores):\n",
    "    res = {}\n",
    "    for s in scores:\n",
    "        score = calc(s)\n",
    "        res.setdefault(score, 0)\n",
    "        res[score] += 1\n",
    "    return res"
   ]
  },
  {
   "cell_type": "code",
   "execution_count": 3,
   "metadata": {
    "collapsed": false
   },
   "outputs": [],
   "source": [
    "scores = generate_scores(90, 8)"
   ]
  },
  {
   "cell_type": "code",
   "execution_count": 13,
   "metadata": {
    "collapsed": false
   },
   "outputs": [
    {
     "name": "stdout",
     "output_type": "stream",
     "text": [
      "100 loops, best of 3: 2.52 ms per loop\n",
      "OrderedDict([(0, 2), (1, 8), (2, 1), (10, 4), (11, 5), (20, 1), (37, 15), (38, 5), (40, 9), (41, 19), (47, 4), (50, 10), (74, 1), (77, 6)])\n"
     ]
    }
   ],
   "source": [
    "%timeit linearise_submissions(rank_submissions(deepcopy(scores)))\n",
    "tree = rank_submissions(deepcopy(scores))\n",
    "lin_trees = linearise_submissions(tree)\n",
    "print(lin_trees)"
   ]
  },
  {
   "cell_type": "code",
   "execution_count": 14,
   "metadata": {
    "collapsed": false
   },
   "outputs": [
    {
     "name": "stdout",
     "output_type": "stream",
     "text": [
      "100 loops, best of 3: 2.82 ms per loop\n",
      "[(1, 1), (10, 1), (91, 1), (92, 4), (101, 3), (182, 1), (820, 1), (821, 1), (830, 2), (911, 5), (1640, 1), (3007, 2), (3008, 4), (3017, 9), (3098, 5), (3251, 2), (3260, 6), (3287, 1), (3341, 11), (3368, 7), (3371, 1), (3827, 4), (4070, 2), (4097, 5), (4100, 3), (6014, 1), (6257, 2), (6284, 3), (6287, 1)]\n"
     ]
    }
   ],
   "source": [
    "%timeit alt_rank(scores)\n",
    "maths = alt_rank(scores)\n",
    "print(sorted(maths.items(), key=lambda x:x))"
   ]
  },
  {
   "cell_type": "code",
   "execution_count": null,
   "metadata": {
    "collapsed": false
   },
   "outputs": [],
   "source": [
    "scores = generate_scores(90, 8)\n",
    "\n",
    "res = rank_submissions(scores, max_depth=5)\n",
    "lin_res = linearise_submissions(res)\n",
    "\n",
    "print('Score Count')\n",
    "for score, count in lin_res.items():\n",
    "    print('{0:5d} {1:<3d}'.format(score, count))\n",
    "\n",
    "print('\\nTotal:', sum(lin_res.values()))"
   ]
  },
  {
   "cell_type": "code",
   "execution_count": null,
   "metadata": {
    "collapsed": true
   },
   "outputs": [],
   "source": [
    "def brute_force_it(n_loops, n_submissions=90, n_reviewers=10, max_depth=10):\n",
    "    res = {}\n",
    "    for i in range(n_loops):\n",
    "        scores = generate_scores(n_submissions, n_reviewers)\n",
    "        ranked = rank_submissions(scores, max_depth)\n",
    "        linearised = linearise_submissions(ranked)\n",
    "        for position, count in linearised.items():\n",
    "            if position not in res:\n",
    "                res[position] = []\n",
    "            res[position].append(count)\n",
    "    return res"
   ]
  },
  {
   "cell_type": "code",
   "execution_count": null,
   "metadata": {
    "collapsed": true
   },
   "outputs": [],
   "source": [
    "def analyse_brute(brute_data, percent_accepted=0.2, count_accepted=250):\n",
    "    # Turn into ordered (score, count) pairs\n",
    "    score_counts = [(i, sum(j)) for i, j in brute_data.items()]\n",
    "    score_counts = sorted(score_counts, key=lambda x: x[0], reverse=True)\n",
    "    total = sum([j for i, j in score_counts])\n",
    "\n",
    "    # Find scores for top 20%\n",
    "    target = percent_accepted * total\n",
    "    running_total = 0\n",
    "    passing_scores = []\n",
    "\n",
    "    for score, count in score_counts:\n",
    "        if running_total + count > target:\n",
    "            break\n",
    "        running_total += count\n",
    "        passing_scores.append(score)\n",
    "    # Pretty print\n",
    "    print('Passing scores:', passing_scores)\n",
    "    print('Account for: {0:2.1f}% of total'.format(100*running_total/total))\n",
    "    # Make a plot\n",
    "    x = [i for i, j in score_counts]\n",
    "    y = [j for i, j in score_counts]\n",
    "    plt.bar(x,y)"
   ]
  },
  {
   "cell_type": "code",
   "execution_count": null,
   "metadata": {
    "collapsed": false
   },
   "outputs": [],
   "source": [
    "huge_test_90_initial_subs = brute_force_it(10000)"
   ]
  },
  {
   "cell_type": "code",
   "execution_count": null,
   "metadata": {
    "collapsed": false
   },
   "outputs": [],
   "source": [
    "analyse_brute(huge_test_90_initial_subs)"
   ]
  },
  {
   "cell_type": "code",
   "execution_count": null,
   "metadata": {
    "collapsed": false
   },
   "outputs": [],
   "source": [
    "huge_test_400_final_subs = brute_force_it(10000, n_submissions=400)"
   ]
  },
  {
   "cell_type": "code",
   "execution_count": null,
   "metadata": {
    "collapsed": false
   },
   "outputs": [],
   "source": [
    "# Assume we can accept about 200 things, i.e. 50%\n",
    "analyse_brute(huge_test_400_final_subs, percent_accepted=0.5)"
   ]
  },
  {
   "cell_type": "code",
   "execution_count": null,
   "metadata": {
    "collapsed": true
   },
   "outputs": [],
   "source": [
    "from math import factorial"
   ]
  },
  {
   "cell_type": "code",
   "execution_count": null,
   "metadata": {
    "collapsed": true
   },
   "outputs": [],
   "source": [
    "def nMultichooser(n_reviewers, k_scores):\n",
    "    \"\"\"\n",
    "    Calculates the number of combinations of n_reviewers selecting from \n",
    "    k_score options.\n",
    "    \n",
    "    e.g. nMultichooser(3,2) gives 6, the number of combinations of 2 values\n",
    "    including repeats (i.e. 1-1, 1-2, 1-3, 2-2, 2-3, 3-3: 6 combinations)\n",
    "    \"\"\"\n",
    "    n = n_reviewers + k_scores - 1\n",
    "    numerator = factorial(n)\n",
    "    denominator = factorial(k_scores)*factorial(n - k_scores)\n",
    "    return numerator/denominator"
   ]
  },
  {
   "cell_type": "code",
   "execution_count": null,
   "metadata": {
    "collapsed": false
   },
   "outputs": [],
   "source": [
    "combinatorics = [(i, nMultichooser(i, 3)) for i in range(3, 20)]\n",
    "\n",
    "print('Reviewers Score range')\n",
    "for n_reviwers, score in combinatorics:\n",
    "    print('{0:9d} {1:<4d}'.format(n_reviwers, int(score)))"
   ]
  }
 ],
 "metadata": {
  "kernelspec": {
   "display_name": "Python 3",
   "language": "python",
   "name": "python3"
  },
  "language_info": {
   "codemirror_mode": {
    "name": "ipython",
    "version": 3
   },
   "file_extension": ".py",
   "mimetype": "text/x-python",
   "name": "python",
   "nbconvert_exporter": "python",
   "pygments_lexer": "ipython3",
   "version": "3.4.2"
  }
 },
 "nbformat": 4,
 "nbformat_minor": 0
}
